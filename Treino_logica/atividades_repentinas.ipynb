{
 "cells": [
  {
   "cell_type": "code",
   "execution_count": null,
   "metadata": {},
   "outputs": [],
   "source": [
    "# Bhaskara\n",
    "\n",
    "import math\n",
    "def bhaskara():\n",
    "    a = int(input())\n",
    "    b = int(input())\n",
    "    c = int(input())\n",
    "    delta = (b**2) - (4 * a * c)\n",
    "\n",
    "    if delta > 0:\n",
    "        raiz_positiva = (- (b) + math.sqrt(delta)) / (2 * a)\n",
    "        raiz_negativa = (- (b) - math.sqrt(delta)) / (2 * a)\n",
    "        print(f'x1 é igual a: {raiz_positiva}')\n",
    "        print(f'x2 é igual a: {raiz_negativa}')\n",
    "    else:\n",
    "        print(\"Delta resultou em um valor negativo, portanto, não é possível calcular as raízes!\")\n",
    "\n",
    "bhaskara()"
   ]
  },
  {
   "cell_type": "code",
   "execution_count": null,
   "metadata": {},
   "outputs": [],
   "source": [
    "lista = []\n",
    "selecao_par = []\n",
    "selecao_impar = []\n",
    "i = 0\n",
    "while i < 10:\n",
    "    lista.append(int(input()))\n",
    "    i+=1\n",
    "\n",
    "for i in lista:\n",
    "    if i % 2 ==0:\n",
    "        selecao_par.append(i)\n",
    "    else:\n",
    "        selecao_impar.append(i)    \n",
    "\n",
    "lista = [selecao_par, selecao_impar]\n",
    "print(lista)"
   ]
  },
  {
   "cell_type": "code",
   "execution_count": null,
   "metadata": {},
   "outputs": [],
   "source": [
    "def pode_ir_ao_cinema():\n",
    "\n",
    "    preco_ingresso = 30.00\n",
    "    preco_ubber = 30.00\n",
    "    preco_comida = 20.00\n",
    "\n",
    "    valor1 = float(input(\"Informe o valor que a primeira pessoa possui: \"))\n",
    "    valor2 = float(input(\"Informe o valor que a segunda pessoa possui: \"))\n",
    "    \n",
    "    carona = input(\"Vão de carona? (Sim/Não): \").strip().lower() == \"sim\"\n",
    "    comer = input(\"Vão comer no cinema? (Sim/Não): \").strip().lower() == \"sim\"\n",
    "    vr = input(\"Possuem VR? (Sim/Não): \").strip().lower() == \"sim\"\n",
    "    ganhou_ingressos = input(\"Ganharam os ingressos? (Sim/Não): \").strip().lower() == \"sim\"\n",
    "\n",
    "    custo_ingresso = 0 if ganhou_ingressos else preco_ingresso * 2\n",
    "    custo_transporte = 0 if carona else preco_ubber\n",
    "    custo_comida = 0 if not comer else preco_comida * 2\n",
    "    custo_total = custo_ingresso + custo_transporte + custo_comida\n",
    "\n",
    "    if vr and comer:\n",
    "        custo_total -= preco_comida * 2\n",
    "\n",
    "    valor_total = valor1 + valor2\n",
    "\n",
    "    if valor_total >= custo_total:\n",
    "        print(\"Vai dar certo o cinema? true\")\n",
    "    else:\n",
    "        print(\"Vai dar certo o cinema? false\")\n",
    "\n",
    "pode_ir_ao_cinema()"
   ]
  },
  {
   "cell_type": "code",
   "execution_count": null,
   "metadata": {},
   "outputs": [],
   "source": [
    "meu_dicionario = {\n",
    "    \"nome\": input(),\n",
    "    \"idade\": int(input()),\n",
    "    \"cidade\": input()\n",
    "}\n",
    "\n",
    "for i in meu_dicionario.items():\n",
    "    print(i)\n",
    "\n",
    "print(meu_dicionario)"
   ]
  },
  {
   "cell_type": "code",
   "execution_count": null,
   "metadata": {},
   "outputs": [],
   "source": [
    "# Código do Chat, mudar os números pra 0 (Trabalho do Glauco)\n",
    "\n",
    "import random\n",
    "\n",
    "def change_numbers(input_string):\n",
    "    # Divide a string em linhas\n",
    "    lines = input_string.strip().split('\\n')\n",
    "    updated_lines = []\n",
    "    \n",
    "    for line in lines:\n",
    "        # Converte a linha em uma lista de caracteres\n",
    "        char_list = list(line.strip())\n",
    "        \n",
    "        # Lista de índices que podem ser alterados (exceto o primeiro número após a sequência de zeros)\n",
    "        changeable_indices = [i for i in range(11, len(char_list))]\n",
    "        \n",
    "        # Calcula o número de mudanças necessárias\n",
    "        num_changes = int(len(changeable_indices) * 0.40)\n",
    "        \n",
    "        # Seleciona aleatoriamente os índices que serão alterados\n",
    "        indices_to_change = random.sample(changeable_indices, num_changes)\n",
    "        \n",
    "        # Altera os caracteres selecionados para '0'\n",
    "        for index in indices_to_change:\n",
    "            char_list[index] = '0'\n",
    "        \n",
    "        # Junta a lista de caracteres em uma string e adiciona à lista de linhas atualizadas\n",
    "        updated_lines.append(''.join(char_list))\n",
    "    \n",
    "    # Junta as linhas atualizadas em uma string final\n",
    "    return '\\n'.join(updated_lines)\n",
    "\n",
    "# Sequência de números fornecida\n",
    "input_string = \"\"\"\n",
    "00000000004784761118\n",
    "00000000005914271653\n",
    "00000000001668866281\n",
    "00000000003877344212\n",
    "00000000006881853169\n",
    "00000000006293578135\n",
    "00000000004595978258\n",
    "00000000006139837115\n",
    "00000000009734449824\n",
    "00000000006342961445\n",
    "00000000007851561339\n",
    "\"\"\"\n",
    "\n",
    "print(change_numbers(input_string))"
   ]
  },
  {
   "cell_type": "code",
   "execution_count": null,
   "metadata": {},
   "outputs": [],
   "source": []
  },
  {
   "cell_type": "code",
   "execution_count": null,
   "metadata": {},
   "outputs": [],
   "source": []
  },
  {
   "cell_type": "code",
   "execution_count": null,
   "metadata": {},
   "outputs": [],
   "source": []
  },
  {
   "cell_type": "code",
   "execution_count": null,
   "metadata": {},
   "outputs": [],
   "source": []
  },
  {
   "cell_type": "code",
   "execution_count": null,
   "metadata": {},
   "outputs": [],
   "source": []
  },
  {
   "cell_type": "code",
   "execution_count": null,
   "metadata": {},
   "outputs": [],
   "source": []
  },
  {
   "cell_type": "code",
   "execution_count": null,
   "metadata": {},
   "outputs": [],
   "source": []
  },
  {
   "cell_type": "code",
   "execution_count": null,
   "metadata": {},
   "outputs": [],
   "source": []
  },
  {
   "cell_type": "code",
   "execution_count": null,
   "metadata": {},
   "outputs": [],
   "source": []
  },
  {
   "cell_type": "code",
   "execution_count": null,
   "metadata": {},
   "outputs": [],
   "source": []
  }
 ],
 "metadata": {
  "language_info": {
   "name": "python"
  }
 },
 "nbformat": 4,
 "nbformat_minor": 2
}
