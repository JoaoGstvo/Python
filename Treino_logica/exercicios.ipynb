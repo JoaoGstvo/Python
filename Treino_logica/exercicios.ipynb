{
 "cells": [
  {
   "cell_type": "code",
   "execution_count": null,
   "metadata": {},
   "outputs": [],
   "source": [
    "# ------------------------- CONDIÇÕES -------------------------"
   ]
  },
  {
   "cell_type": "code",
   "execution_count": null,
   "metadata": {},
   "outputs": [],
   "source": [
    "# 1. Implementar uma função para verificar qual é o maior entre dois números. A função deve retornar uma mensagem na formatação: \"O número X é maior que Y\"\n",
    "\n",
    "def verificar_maior(num1, num2):\n",
    "    if num1 > num2:\n",
    "        print(f'O número {num1} é maior que {num2}')\n",
    "\n",
    "    elif num2 > num1:\n",
    "        print(f'O número {num2} é maior que {num1}')\n",
    "\n",
    "    else:\n",
    "        print('Os números são iguais')\n",
    "\n",
    "verificar_maior(6, 5)\n"
   ]
  },
  {
   "cell_type": "code",
   "execution_count": null,
   "metadata": {},
   "outputs": [],
   "source": [
    "# 2. Implementar uma função para verificar qual é o maior entre dois números. Se os números forem iguais, a função deve retornar a mensagem: \"Os números são iguais\"\n",
    "\n",
    "def verificar_maior(num1, num2):\n",
    "    if num1 > num2:\n",
    "        print(f'O número {num1} é maior que {num2}')\n",
    "\n",
    "    elif num2 > num1:\n",
    "        print(f'O número {num2} é maior que {num1}')\n",
    "\n",
    "    else:\n",
    "        print('Os números são iguais')\n",
    "\n",
    "verificar_maior(5, 5)"
   ]
  },
  {
   "cell_type": "code",
   "execution_count": null,
   "metadata": {},
   "outputs": [],
   "source": [
    "# 3. Implementar uma função para verificar qual é o maior entre três números. A função deve retornar uma mensagem na formatação: \"O número X é maior que Y e Z\". Se os números forem iguais, a função deve retornar a mensagem: \"Os números são iguais\"\n",
    "\n",
    "def verificar_maior(num1, num2, num3):\n",
    "\n",
    "    if num1 == num2 == num3:\n",
    "        print( \"Os numúmeros são iguais\")\n",
    "    \n",
    "    elif num1 > num2 and num1 > num3:\n",
    "        print( f\"O numúmero {num1} é maior que {num2} e {num3}\")\n",
    "    \n",
    "    elif num2 > num1 and num2 > num3:\n",
    "        print( f\"O numúmero {num2} é maior que {num1} e {num3}\")\n",
    "    \n",
    "    else:\n",
    "        print( f\"O numúmero {num3} é maior que {num1} e {num2}\")\n",
    "\n",
    "\n",
    "\n",
    "verificar_maior(6, 5, 4)"
   ]
  },
  {
   "cell_type": "code",
   "execution_count": null,
   "metadata": {},
   "outputs": [],
   "source": [
    "# 4. Implementar uma função que retorne uma mensagem com a ação que um pedestre deve realizar ao ver seu semáforo. As possíveis ações estão listadas abaixo. Se a cor for diferente, a função deve retornar um Erro com a informação: \"Farol inoperante\"\n",
    "# - Vermelho -> Espere\n",
    "# - Verde -> Atravasse\n",
    "\n",
    "def verificar_farol(cor):\n",
    "\n",
    "    if cor.lower().strip() == \"vermelho\":\n",
    "        print('Aguarde um momento')\n",
    "\n",
    "    elif cor.lower().strip() == \"amarelo\":\n",
    "        print(\"Já vai abrir, calma aí\")\n",
    "\n",
    "    elif cor.lower().strip() == \"verde\":\n",
    "        print(\"O farol está aberto pra você\")\n",
    "\n",
    "    else:\n",
    "        print(\"Farol quebrado\")\n",
    "\n",
    "verificar_farol(\"azul\")\n"
   ]
  },
  {
   "cell_type": "code",
   "execution_count": null,
   "metadata": {},
   "outputs": [],
   "source": [
    "# 5. Implementar uma função que informe a situação de um orçamento familiar baseado no total de ganhos e gastos. Se o total de ganhos for maior que o total de gastos, deve ser exibido a mensagem: \"Você está dentro do orçamento!\", senão \"Você está fora do orçamento! Não gaste mais!\"\n",
    "\n",
    "def orcamento(gastos, ganhos):\n",
    "\n",
    "    if gastos > ganhos:\n",
    "        print(\"Está no orçamento\")\n",
    "\n",
    "    else:\n",
    "        print(\"Você não está no orçamento, pare de comprar skins\")\n",
    "\n",
    "orcamento(1500, 1500)"
   ]
  },
  {
   "cell_type": "code",
   "execution_count": null,
   "metadata": {},
   "outputs": [],
   "source": []
  },
  {
   "cell_type": "code",
   "execution_count": null,
   "metadata": {},
   "outputs": [],
   "source": [
    "# ------------------------- REPETIÇÕES ------------------------- "
   ]
  },
  {
   "cell_type": "code",
   "execution_count": null,
   "metadata": {},
   "outputs": [],
   "source": [
    "# 01. Implementar uma função que escreva no terminal os números naturais de 1 até um número informado.\n",
    "# Ex: (10) => 1 2 3 4 5 6 7 8 9 10\n",
    "\n",
    "def escreve_numeros():\n",
    "    \n",
    "    number = int(input(\"Digite um número: \"))\n",
    "    for i in range(number):\n",
    "        print(i, end=' ')\n",
    "\n",
    "escreve_numeros()"
   ]
  },
  {
   "cell_type": "code",
   "execution_count": null,
   "metadata": {},
   "outputs": [],
   "source": [
    "# 02. Implementar uma função que escreva no terminal os números naturais pares de 0 até um número informado.\n",
    "# Ex: (10) => 0 2 4 6 8 10\n",
    "\n",
    "def escreve_numeros_pares():\n",
    "    \n",
    "    numbers = int(input(\"Digite um número: \"))\n",
    "    for i in range(0, numbers, 2):\n",
    "        print(i, end=' ')\n",
    "\n",
    "escreve_numeros_pares()"
   ]
  },
  {
   "cell_type": "code",
   "execution_count": null,
   "metadata": {},
   "outputs": [],
   "source": [
    "# 03. Implementar uma função que escreva no terminal os números naturais ímpares de 1 até um número informado.\n",
    "# Ex: (10) => 1 3 5 7 9\n",
    "\n",
    "def escreve_numeros_impares(n):\n",
    "    \n",
    "    numbers = int(input(\"Digite um número: \"))\n",
    "    for i in range(numbers):\n",
    "        if i % 2 != 1:\n",
    "            print(i, end=' ')\n",
    "\n",
    "escreve_numeros_impares()"
   ]
  },
  {
   "cell_type": "code",
   "execution_count": null,
   "metadata": {},
   "outputs": [],
   "source": [
    "# 04. Implementar uma função que escreva no terminal os números naturais, a partir de um número de início e fim.\n",
    "# Ex: (3, 11) => 3 4 5 6 7 8 9 10 11\n",
    "\n",
    "def naturais_crescente():\n",
    "    first_number = int(input(\"Digite um número: \"))\n",
    "    second_number = int(input(\"Digite um número: \"))\n",
    "    i = first_number\n",
    "    print()\n",
    "    while i <= second_number:\n",
    "        i+=1\n",
    "        print(i-1)\n",
    "        if first_number == second_number:\n",
    "            break\n",
    "\n",
    "naturais_crescente()"
   ]
  },
  {
   "cell_type": "code",
   "execution_count": null,
   "metadata": {},
   "outputs": [],
   "source": [
    "# 05. Implementar uma função que escreva no terminal os números naturais de 1 até um número informado de forma decrescente.\n",
    "# Ex: (10) => 10 9 8 7 6 5 4 3 2 1\n",
    "\n",
    "def descrecentar():\n",
    "    \n",
    "    numero = int(input(\"Digite um número: \"))\n",
    "    for i in range(numero, 0, -1):\n",
    "        print(i, end=' ')\n",
    "\n",
    "descrecentar()"
   ]
  },
  {
   "cell_type": "code",
   "execution_count": null,
   "metadata": {},
   "outputs": [],
   "source": [
    "# 06. Implementar uma função que escreva no terminal os números naturais pares de 0 até um número informado de forma decrescente.\n",
    "# Ex: (10) => 10 8 6 4 2 0\n",
    "\n",
    "def pares_decrescente():\n",
    "    \n",
    "    number = int(input(\"Digite um número: \"))\n",
    "    print()\n",
    "    for i in range(number, - 1, -1):\n",
    "        if i % 2 == 0:\n",
    "            print(i, end=' ')\n",
    "\n",
    "pares_decrescente()"
   ]
  },
  {
   "cell_type": "code",
   "execution_count": null,
   "metadata": {},
   "outputs": [],
   "source": [
    "# 07. Implementar uma função que escreva no terminal os números naturais ímpares de 1 até um número informado de forma decrescente.\n",
    "# Ex: (10) => 9 7 5 3 1\n",
    "\n",
    "def impares_decrescente():\n",
    "    number = int(input(\"Digite um número: \"))\n",
    "    print()\n",
    "    for i in range(number, - 1, -1):\n",
    "        if i % 2 !=0:\n",
    "            print(i, end=' ')\n",
    "\n",
    "impares_decrescente()"
   ]
  },
  {
   "cell_type": "code",
   "execution_count": null,
   "metadata": {},
   "outputs": [],
   "source": [
    "# 08. Implementar uma função que escreva no terminal os números naturais, a partir de um número de início e fim, de forma decrescente.\n",
    "# Ex: (3, 11) => 11 10 9 8 7 6 5 4 3\n",
    "\n",
    "def naturais_decrescente():\n",
    "    first_number = int(input(\"Digite um número: \"))\n",
    "    second_number = int(input(\"Digite um número: \"))\n",
    "    i = max(first_number, second_number)\n",
    "    print()\n",
    "    while i >= min(first_number, second_number):\n",
    "        i-=1\n",
    "        print(i+1)\n",
    "\n",
    "naturais_decrescente()"
   ]
  },
  {
   "cell_type": "code",
   "execution_count": null,
   "metadata": {},
   "outputs": [],
   "source": [
    "# 09. Implementar uma função que escreva no terminal os números naturais múltiplos de número informado, de 0 até outro número informado.\n",
    "# Ex1: (4, 20) => 0, 4, 8, 12, 16, 20\n",
    "\n",
    "def multiplos():\n",
    "    first_number = int(input(\"Digite um número: \"))\n",
    "    second_number = int(input(\"Digite um número: \"))\n",
    "    i = min(first_number, second_number)\n",
    "    print()\n",
    "\n",
    "    while i <= max(first_number, second_number):\n",
    "        i += min(first_number, second_number)\n",
    "        print(i - min(first_number, second_number))\n",
    "\n",
    "multiplos()"
   ]
  },
  {
   "cell_type": "code",
   "execution_count": null,
   "metadata": {},
   "outputs": [],
   "source": [
    "# 10. Implementar uma função que escreva no terminal o dobro dos números naturais de 1 até um número informado. A mensagem deve estar no formato: \"O dobro de X é Y\".\n",
    "# Ex:  (5) => O dobro de 1 é 2\n",
    "#             O dobro de 2 é 4\n",
    "#             O dobro de 3 é 6\n",
    "#             O dobro de 4 é 8\n",
    "#             O dobro de 5 é 10\n",
    "\n",
    "def dobro():\n",
    "    number = int(input(\"Digite um número: \"))\n",
    "    i = 1\n",
    "    print()\n",
    "    while i <= number:\n",
    "        print(f'O dobro de {i} é {i*2}')\n",
    "        i += 1\n",
    "\n",
    "dobro()"
   ]
  },
  {
   "cell_type": "code",
   "execution_count": null,
   "metadata": {},
   "outputs": [],
   "source": [
    "# 11. Implementar uma função que escreva no terminal a tabuada de um número informado. A mensagem deve estar no formato: \"A x B = X\".\n",
    "# Ex:  (5) => 5 x 1 = 5\n",
    "#             5 x 2 = 10\n",
    "#             5 x 3 = 15\n",
    "#             5 x 4 = 20\n",
    "#             5 x 5 = 25\n",
    "#             5 x 6 = 30\n",
    "#             5 x 7 = 35\n",
    "#             5 x 8 = 40\n",
    "#             5 x 9 = 45\n",
    "#             5 x 10 = 50\n",
    "\n",
    "def tabuada():\n",
    "    number = int(input(\"Digite um número: \"))\n",
    "    i = 1\n",
    "    while i <= 10:\n",
    "        print(f'{number} x {i} = {number * i}')\n",
    "        i += 1\n",
    "\n",
    "tabuada()"
   ]
  },
  {
   "cell_type": "code",
   "execution_count": null,
   "metadata": {},
   "outputs": [],
   "source": [
    "# 12. Implementar uma função que retorne um texto que represente a forma de uma linha a partir do tamanho de pontos que a compõem, conforme abaixo:\n",
    "# Exemplo: 4 pontos\n",
    "# * * * *\n",
    "\n",
    "def desenhar():\n",
    "    pontos = int(input(\"Digite um número: \"))\n",
    "    for i in range(pontos):\n",
    "        print(\"*\", end=\" \")\n",
    "\n",
    "desenhar()"
   ]
  },
  {
   "cell_type": "code",
   "execution_count": null,
   "metadata": {},
   "outputs": [],
   "source": [
    "# 13. Implementar uma função que retorne um texto que represente a forma de um quadrado a partir da quantidade de linhas, conforme abaixo:\n",
    "# Exemplo: 4 linhas\n",
    "# * * * *\n",
    "# * * * *\n",
    "# * * * *\n",
    "# * * * *\n",
    "\n",
    "def desenhar():\n",
    "    pontos = int(input(\"Digite um número: \"))\n",
    "    for i in range(pontos):\n",
    "        print(\"* \" * 4)\n",
    "\n",
    "desenhar()"
   ]
  },
  {
   "cell_type": "code",
   "execution_count": null,
   "metadata": {},
   "outputs": [],
   "source": [
    "# 14. Implementar uma função que retorne um texto que represente a forma de um retângulo a partir da quantidade de linhas e colunas, conforme abaixo:\n",
    "# Exemplo: 4 linhas e 2 colunas\n",
    "# * *\n",
    "# * *\n",
    "# * *\n",
    "# * *\n",
    "\n",
    "def desenhar():\n",
    "    pontos = int(input(\"Digite um número: \"))\n",
    "    for i in range(pontos):\n",
    "        print(\"* \" * 2)\n",
    "\n",
    "desenhar()"
   ]
  },
  {
   "cell_type": "code",
   "execution_count": null,
   "metadata": {},
   "outputs": [],
   "source": [
    "# 15. Implementar uma função que retorne um texto que represente a forma de um triângulo a partir da quantidade de linhas, conforme abaixo:\n",
    "# Exemplo: 5 linhas\n",
    "# *\n",
    "# * *\n",
    "# * * *\n",
    "# * * * * \n",
    "# * * * * *\n",
    "\n",
    "def desenhar():\n",
    "    pontos = int(input(\"Digite um número: \"))\n",
    "    for i in range(1, pontos+1):\n",
    "        print('*' * i)\n",
    "\n",
    "desenhar()"
   ]
  },
  {
   "cell_type": "code",
   "execution_count": null,
   "metadata": {},
   "outputs": [],
   "source": [
    "# 16. Implementar uma função que retorne um texto que represente a forma de um triângulo invertido a partir da quantidade de linhas, conforme abaixo:\n",
    "# Exemplo: 5 linhas\n",
    "#         *\n",
    "#       * *\n",
    "#     * * *\n",
    "#   * * * * \n",
    "# * * * * *\n",
    "\n",
    "def desenhar():\n",
    "    pontos = int(input(\"Digite um número: \"))\n",
    "    for i in range(1, pontos+1):\n",
    "        print( (' ' * pontos) + '*' * i)\n",
    "        pontos -=1\n",
    "desenhar()"
   ]
  },
  {
   "cell_type": "code",
   "execution_count": null,
   "metadata": {},
   "outputs": [],
   "source": [
    "# 17. Implementar uma função que calcule a soma dos números naturais de 1 até um número informado.\n",
    "# Ex: Somar de 1 até 5 => 1+2+3+4+5 => 15\n",
    "\n",
    "def somar():\n",
    "    numero = int(input(\"Digite um número: \"))\n",
    "    soma = 0\n",
    "\n",
    "    for i in range(1, numero+1):\n",
    "        print (str(i) + '+', end='')\n",
    "        soma += i\n",
    "    print('=', soma)\n",
    "somar()"
   ]
  },
  {
   "cell_type": "code",
   "execution_count": null,
   "metadata": {},
   "outputs": [],
   "source": [
    "# 18. Implementar uma função que calcule a soma dos números pares naturais de 1 até um número informado.\n",
    "# Ex: Somar pares de 1 até 5 => 2+4 => 6\n",
    "\n",
    "def somar_pares():\n",
    "    numero = int(input(\"Digite um número: \"))\n",
    "    soma = 0\n",
    "    \n",
    "    for i in range(1, numero+1):\n",
    "        if i % 2 == 0:\n",
    "            print(i, end=' ')\n",
    "            if i < numero-1:\n",
    "                print('+', end=' ')\n",
    "            soma += i\n",
    "    \n",
    "    print('= ', soma)\n",
    "\n",
    "somar_pares()"
   ]
  },
  {
   "cell_type": "code",
   "execution_count": null,
   "metadata": {},
   "outputs": [],
   "source": [
    "# 19. Implementar uma função que calcule a soma dos números ímpares naturais de 1 até um número informado.\n",
    "# Ex: Somar ímpares de 1 até 5 => 1+3+5 => 9\n",
    "\n",
    "def somar_impares():\n",
    "    numero = int(input(\"Digite um número: \"))\n",
    "    soma = 0\n",
    "    \n",
    "    for i in range(1, numero+1):\n",
    "        if i % 2 != 0:\n",
    "            print(i, end=' ')\n",
    "            if i < numero-1:\n",
    "                print('+', end=' ')\n",
    "            soma += i\n",
    "    \n",
    "    print('= ', soma)\n",
    "\n",
    "somar_impares()"
   ]
  },
  {
   "cell_type": "code",
   "execution_count": null,
   "metadata": {},
   "outputs": [],
   "source": [
    "# 20. Implementar uma função que calcule o fatorial de um número informado.\n",
    "# Ex: Fatorial de 5 => 5*4*3*2*1 => 120\n",
    "\n",
    "def fatoracao():\n",
    "    numero = int(input(\"Digite um número: \"))\n",
    "    num_base = 1\n",
    "\n",
    "    for i in range(numero, 1, -1):\n",
    "        print(f'{i} * ', end='')\n",
    "        num_base *= i\n",
    "\n",
    "    print('1 =', num_base)\n",
    "\n",
    "fatoracao()"
   ]
  },
  {
   "cell_type": "code",
   "execution_count": null,
   "metadata": {},
   "outputs": [],
   "source": [
    "# 21. Implementar uma função que calcule a potenciação a partir de um número e do expoente. \n",
    "# Obs: Essa versão da potenciação deve se preocupar apenas com números naturais, ou seja, inteiros positivos. \n",
    "# Se a potência for zero, retorne 1. Se algum parâmetro for negativo, lançar um erro.\n",
    "# Ex: Potência de 3 elevado a 3 => 27\n",
    "\n",
    "def potenciacao():\n",
    "    numero = int(input(\"Digite um número: \"))\n",
    "    expoente = int(input(\"Digite o expoente: \"))\n",
    "\n",
    "    if expoente == 0:\n",
    "        return 1\n",
    "\n",
    "    elif expoente > 0 and numero > 0:\n",
    "        resultado = numero ** expoente\n",
    "        print(f\"O resultado de {numero} elevado a {expoente} é: {resultado}\")\n",
    "\n",
    "    else:\n",
    "        print(\"Erro: Parâmetros inválidos\")\n",
    "   \n",
    "potenciacao()"
   ]
  },
  {
   "cell_type": "code",
   "execution_count": null,
   "metadata": {},
   "outputs": [],
   "source": [
    "# 22. Implementar uma função que retorne um texto que represente a forma de um losango a partir da quantidade de linhas, conforme abaixo:\n",
    "# Exemplo: 5 linhas\n",
    "#         *\n",
    "#       * * * \n",
    "#     * * * * *\n",
    "#   * * * * * * * \n",
    "# * * * * * * * * * \n",
    "#   * * * * * * * \n",
    "#     * * * * * \n",
    "#       * * * \n",
    "#         *\n",
    "\n",
    "def impossivel():\n",
    "\n",
    "    pontos = int(input(\"Digite um número: \"))\n",
    "    max_num = (pontos*2)-1\n",
    "    i = 1\n",
    "    u = 1\n",
    "    while max_num >= i:\n",
    "        print('  ' * (max_num - u) + '* ' * i)\n",
    "        i += 2\n",
    "        u += 1\n",
    "    u -= 2\n",
    "    for i in range(pontos+2 , 0, -2):\n",
    "        print('  ' * (max_num - u) + '* ' * i)\n",
    "        i -= 1\n",
    "        u -= 1\n",
    "        \n",
    "impossivel()\n"
   ]
  },
  {
   "cell_type": "code",
   "execution_count": null,
   "metadata": {},
   "outputs": [],
   "source": [
    "# 23. Implementar uma função que retorne um texto que represente a forma de um triângulo a partir da quantidade de linhas, conforme abaixo:\n",
    "# Exemplo: 4 linhas\n",
    "# 1\n",
    "# 2 2\n",
    "# 3 3 3\n",
    "# 4 4 4 4\n",
    "\n",
    "def desenhar():\n",
    "    pontos = int(input(\"Digite um número: \"))\n",
    "    for i in range(1, pontos+1):\n",
    "        print(f'{i} ' * i)\n",
    "        i +=1\n",
    "\n",
    "desenhar()"
   ]
  },
  {
   "cell_type": "code",
   "execution_count": null,
   "metadata": {},
   "outputs": [],
   "source": [
    "# 24. Implementar uma função que retorne um texto que represente a forma de um triângulo a partir da quantidade de linhas, conforme abaixo:\n",
    "# Exemplo: 4 linhas\n",
    "# 1\n",
    "# 2 3 \n",
    "# 4 5 6\n",
    "# 7 8 9 10\n",
    "\n",
    "def desenhar():\n",
    "\n",
    "    pontos = int(input(\"Digite um número: \"))\n",
    "    inicial = 1\n",
    "\n",
    "    for i in range(1, pontos+1):\n",
    "        for x in range(i):\n",
    "            print(inicial, end=\" \")\n",
    "            inicial += 1\n",
    "        print()\n",
    "\n",
    "desenhar()"
   ]
  },
  {
   "cell_type": "code",
   "execution_count": null,
   "metadata": {},
   "outputs": [],
   "source": [
    "# 25. Implementar uma função que retorne um texto que represente a forma de um triângulo a partir da quantidade de linhas, conforme abaixo:\n",
    "# Exemplo: 4 linhas\n",
    "#    1\n",
    "#   2 2\n",
    "#  3 3 3\n",
    "# 4 4 4 4\n",
    "\n",
    "def piramide_numero():\n",
    "    linhas = int(input(\"Digite um número: \"))\n",
    "    for i in range(1, linhas + 1):\n",
    "        espacos = ' ' * (linhas - i)\n",
    "        numeros = f\"{i} \" * i\n",
    "        print(espacos + numeros.rstrip()) \n",
    "\n",
    "piramide_numero()\n",
    "\n"
   ]
  },
  {
   "cell_type": "code",
   "execution_count": null,
   "metadata": {},
   "outputs": [],
   "source": [
    "# 26. Implementar uma função que retorne um texto que represente a forma de um triângulo a partir da quantidade de linhas, conforme abaixo:\n",
    "# Exemplo: 5 linhas\n",
    "#         1\n",
    "#       2 1 2 \n",
    "#     3 2 1 2 3\n",
    "#   4 3 2 1 2 3 4\n",
    "# 5 4 3 2 1 2 3 4 5\n",
    "\n",
    "def piramide_numero():\n",
    "\n",
    "    linhas = int(input(\"Digite um número: \"))\n",
    "    \n",
    "    for i in range(1, linhas + 1):\n",
    "        espacos = '  ' * (linhas - i)\n",
    "        parte_esquerda = list(range(i, 0, -1))\n",
    "        parte_direita = list(range(2, i + 1))\n",
    "        \n",
    "        linha = parte_esquerda + parte_direita\n",
    "        print(espacos + ' '.join(map(str, linha)))\n",
    "\n",
    "piramide_numero()\n"
   ]
  },
  {
   "cell_type": "code",
   "execution_count": null,
   "metadata": {},
   "outputs": [],
   "source": [
    "# 27. Implementar uma função que separe os caracteres de um texto por hífen.\n",
    "# Ex: (\"Bora programar\") =\"B-o-r-a- -p-r-o-g-r-a-m-a-r-\n",
    "\n",
    "def hifens():\n",
    "    texto = \"Bora programar\"\n",
    "    print(\"-\".join(texto))\n",
    "hifens()"
   ]
  },
  {
   "cell_type": "code",
   "execution_count": null,
   "metadata": {},
   "outputs": [],
   "source": [
    "# 28. Implementar uma função que verifique quantas vogais aparecem em um texto.\n",
    "# Ex: (\"Bora programar\") => 5\n",
    "\n",
    "def contar_vogais():\n",
    "    texto = \"Bora programar\"\n",
    "    resultado = 0\n",
    "    for i in texto:\n",
    "        match i:\n",
    "            case 'a' | 'e' | 'i' | 'o' | 'u' | 'A' | 'E' | 'I' | 'O' | 'U':\n",
    "                resultado += 1\n",
    "\n",
    "    print(f'O número de vogais no texto \"{texto}\" é: {resultado}')\n",
    "\n",
    "contar_vogais()"
   ]
  },
  {
   "cell_type": "code",
   "execution_count": null,
   "metadata": {},
   "outputs": [],
   "source": [
    "# 29. Implementar uma função que verifique se todas as vogais aparecem em um texto.\n",
    "# Ex: (\"Eu avisei você\") => true\n",
    "\n",
    "# from unidecode import unidecode\n",
    "\n",
    "# def conferir_vogais():\n",
    "    \n",
    "#     texto = \"Eu avisei você\"\n",
    "#     texto_sem_acento = unidecode(texto)\n",
    "#     vogais = set(\"aeiou\")\n",
    "\n",
    "#     print(vogais.issubset(texto_sem_acento))\n",
    "\n",
    "# conferir_vogais()"
   ]
  },
  {
   "cell_type": "code",
   "execution_count": null,
   "metadata": {},
   "outputs": [],
   "source": [
    "# 30. Implementar uma função que conte a frequência de um caractere em um texto.\n",
    "# Ex: (\"Bora programar\", \"a\") => 3"
   ]
  },
  {
   "cell_type": "code",
   "execution_count": null,
   "metadata": {},
   "outputs": [],
   "source": [
    "# 31. Implementar uma função que conte a frequência de um digito em um número.\n",
    "# Ex: (99938, 9) => 3"
   ]
  },
  {
   "cell_type": "code",
   "execution_count": null,
   "metadata": {},
   "outputs": [],
   "source": [
    "# 32. Implementar uma função que inverta os caracteres de um texto recebido.\n",
    "# Ex: \"Bruno\" => \"onurB\"\n",
    "\n",
    "def inverter_texto():\n",
    "    \n",
    "    texto = \"Bruno\"\n",
    "    print(texto[::-1])\n",
    "\n",
    "inverter_texto()"
   ]
  },
  {
   "cell_type": "code",
   "execution_count": null,
   "metadata": {},
   "outputs": [],
   "source": [
    "# 33. Implementar uma função que verifique se um texto é um palíndromo.\n",
    "# Ex: \"luz azul\" => true\n",
    "\n",
    "def invertido_texto_verificar():\n",
    "    \n",
    "    # texto = \"luz azul\"\n",
    "    # if texto == texto[::-1]:\n",
    "    #     return True\n",
    "\n",
    "    # else:\n",
    "    #     return False\n",
    "\n",
    "    pass\n",
    "\n",
    "invertido_texto_verificar()\n"
   ]
  },
  {
   "cell_type": "code",
   "execution_count": null,
   "metadata": {},
   "outputs": [],
   "source": [
    "# 34. Implementar uma função que inverta os digitos de um número recebido.\n",
    "# Ex: 12345 => 54321"
   ]
  },
  {
   "cell_type": "code",
   "execution_count": null,
   "metadata": {},
   "outputs": [],
   "source": [
    "# 35. Implementar uma função que verifique se um número é um palíndromo.\n",
    "# Ex: 1198911 => true"
   ]
  },
  {
   "cell_type": "code",
   "execution_count": null,
   "metadata": {},
   "outputs": [],
   "source": [
    "# 36. Implementar uma função que converta uma palavra para ASCII. Dica: Use a função Convert.ToInt32(..) para C#, e charCodeAt(...) para JS.\n",
    "# Ex: \"Bruno\" => \"66 114 117 110 111\"\n"
   ]
  },
  {
   "cell_type": "code",
   "execution_count": null,
   "metadata": {},
   "outputs": [],
   "source": [
    "# 37. Implementar uma função que verifique se uma senha é forte. Para ser forte, ela precisa ter pelo menos 2 caracteres especiais, 2 números e 8 digitos.\n",
    "# Ex: \"bruno@123#\" => true"
   ]
  },
  {
   "cell_type": "code",
   "execution_count": null,
   "metadata": {},
   "outputs": [],
   "source": [
    "# 38. Implementar uma função que converta uma palavra para Binário.\n",
    "# Ex: \"Bruno\" => \"01100010 01110010 01110101 01101110 01101111\""
   ]
  },
  {
   "cell_type": "code",
   "execution_count": null,
   "metadata": {},
   "outputs": [],
   "source": [
    "# 39. Implementar uma função que verifique, sim ou não, se um número é primo.\n",
    "# Ex: 17 => true"
   ]
  },
  {
   "cell_type": "code",
   "execution_count": null,
   "metadata": {},
   "outputs": [],
   "source": [
    "# 40. Implementar uma função que verifique qual é o número da sequência de fibonacci, a partir de uma posição informada.\n",
    "# Sequência Fibonacci: 1, 1, 2, 3, 5, 8, 13, 21, 34, 55, 89\n",
    "# Ex: 10 => 55"
   ]
  },
  {
   "cell_type": "code",
   "execution_count": null,
   "metadata": {},
   "outputs": [],
   "source": [
    "# 41. Implementar uma função que implemente a criptografia ZENIT POLAR.\n",
    "# Ex: \"bruno\" => \"btule\""
   ]
  },
  {
   "cell_type": "code",
   "execution_count": null,
   "metadata": {},
   "outputs": [],
   "source": [
    "# ------------------------- ARRAY ------------------------- "
   ]
  },
  {
   "cell_type": "code",
   "execution_count": null,
   "metadata": {},
   "outputs": [],
   "source": [
    "# 01. Implementar uma função que recebendo um array de números inteiros, escreva seus elementos no terminal.\n",
    "# Ex: [8,2,10,5] => 8\n",
    "#                   2\n",
    "#                   10\n",
    "#                   5\n",
    "\n",
    "def escreva():\n",
    "    lista = [8, 2, 10, 5]\n",
    "\n",
    "    for i in range(len(lista)):\n",
    "        print(lista[i])\n",
    "        \n",
    "escreva()"
   ]
  },
  {
   "cell_type": "code",
   "execution_count": null,
   "metadata": {},
   "outputs": [],
   "source": [
    "# 02. Implementar uma função que recebendo um número limite, retorne um array contendo uma sequência de 0 até o número anterior ao limite.\n",
    "# Ex: 5 => [0,1,2,3,4]\n",
    "\n",
    "def sequencia():\n",
    "    numero_limite = int(input(\"Digite um número: \"))\n",
    "    lista = []\n",
    "\n",
    "    for i in range(numero_limite):\n",
    "        lista.append(i)\n",
    "        \n",
    "    print(lista)\n",
    "\n",
    "sequencia()\n"
   ]
  },
  {
   "cell_type": "code",
   "execution_count": null,
   "metadata": {},
   "outputs": [],
   "source": [
    "# 03. Implementar uma função que recebendo um número limite, retorne um array contendo uma sequência do número anterior ao limite até 0.\n",
    "# Ex: 5 => [4,3,2,1,0]\n",
    "\n",
    "def sequencia_reversa():\n",
    "    numero_limite = int(input(\"Digite um número: \"))\n",
    "    lista = []\n",
    "\n",
    "    for i in range(numero_limite-1, -1, -1):\n",
    "        lista.append(i)\n",
    "\n",
    "    print(lista)\n",
    "\n",
    "sequencia_reversa()"
   ]
  },
  {
   "cell_type": "code",
   "execution_count": null,
   "metadata": {},
   "outputs": [],
   "source": [
    "# 04. Implementar uma função que recebendo um número limite, retorne um array contendo uma sequência de 1 até o número limite.\n",
    "# Ex: 5 => [1,2,3,4,5]\n",
    "\n",
    "def sequencia():\n",
    "    numero = int(input(\"Digite um número: \"))\n",
    "    lista = []\n",
    "\n",
    "    for i in range(1, numero+1, 1):\n",
    "        lista.append(i)\n",
    "\n",
    "    print(lista)\n",
    "\n",
    "sequencia()"
   ]
  },
  {
   "cell_type": "code",
   "execution_count": null,
   "metadata": {},
   "outputs": [],
   "source": [
    "# 05. Implementar uma função que recebendo um número limite, retorne um array contendo uma sequência do número limite até 1.\n",
    "# Ex: 5 => [5,4,3,2,1]\n",
    "\n",
    "def sequencia_reversa():\n",
    "    numero_limite = int(input(\"Digite um número: \"))\n",
    "    lista = []\n",
    "\n",
    "    for i in range(numero_limite, 0, -1):\n",
    "        lista.append(i)\n",
    "\n",
    "    print(lista)\n",
    "\n",
    "sequencia_reversa()"
   ]
  },
  {
   "cell_type": "code",
   "execution_count": null,
   "metadata": {},
   "outputs": [],
   "source": [
    "# 06. Implementar uma função que recebendo um número de início e fim, retorne um array contendo uma sequência do número de início até o número final.\n",
    "# Ex: (3, 8) => [3,4,5,6,7,8]\n",
    "\n",
    "def sequencia_indicada():\n",
    "    numero_inicial = int(input(\"Digite um número: \"))\n",
    "    numero_final = int(input(\"Digite outro número: \"))\n",
    "    num_min = min(numero_inicial, numero_final)\n",
    "    num_max = max(numero_inicial, numero_final)\n",
    "    \n",
    "    lista = []\n",
    "\n",
    "    for i in range(num_min, num_max+1, 1):\n",
    "        lista.append(i)\n",
    "        \n",
    "    print(lista)\n",
    "\n",
    "sequencia_indicada()"
   ]
  },
  {
   "cell_type": "code",
   "execution_count": null,
   "metadata": {},
   "outputs": [],
   "source": [
    "# 07. Implementar uma função que recebendo um número de início e fim, retorne um array contendo uma sequência do número final até o número inicial.\n",
    "# Ex: (3, 8) => [8,7,6,5,4,3]\n",
    "\n",
    "def sequencia_indicada():\n",
    "    numero_inicial = int(input(\"Digite um número: \"))\n",
    "    numero_final = int(input(\"Digite outro número: \"))\n",
    "    num_min = min(numero_inicial, numero_final)\n",
    "    num_max = max(numero_inicial, numero_final)\n",
    "    lista = []\n",
    "\n",
    "    for i in range(num_max, num_min-1, -1):\n",
    "        lista.append(i)\n",
    "        \n",
    "    print(lista)\n",
    "\n",
    "sequencia_indicada() "
   ]
  },
  {
   "cell_type": "code",
   "execution_count": null,
   "metadata": {},
   "outputs": [],
   "source": [
    "# 08. Implementar uma função que recebendo um array de números inteiros, retorne seu maior valor.\n",
    "# Ex: [8,2,10,5] => 10\n",
    "\n",
    "def item_maior():\n",
    "    lista = [1, 5, 2, 9, 7, 6]\n",
    "    num_maior = max(lista)\n",
    "    \n",
    "    print(num_maior)\n",
    "\n",
    "item_maior()"
   ]
  },
  {
   "cell_type": "code",
   "execution_count": null,
   "metadata": {},
   "outputs": [],
   "source": [
    "# 09. Implementar uma função que recebendo um array de números inteiros, retorne seu menor valor.\n",
    "# Ex: [8,2,10,5] => 2\n",
    "\n",
    "def item_menor():\n",
    "    lista = [1, 5, 2, 9, 7, 6]\n",
    "    num_menor = min(lista)\n",
    "\n",
    "    print(num_menor)\n",
    "\n",
    "item_menor()"
   ]
  },
  {
   "cell_type": "code",
   "execution_count": null,
   "metadata": {},
   "outputs": [],
   "source": [
    "# 10. Implementar uma função que recebendo um array de números inteiros, some seus elementos.\n",
    "# Ex: [2,5,8] => 15\n",
    "\n",
    "def somar():\n",
    "    lista = [2, 5, 8]\n",
    "    for i in lista:\n",
    "        return sum(lista)\n",
    "    \n",
    "somar()"
   ]
  },
  {
   "cell_type": "code",
   "execution_count": null,
   "metadata": {},
   "outputs": [],
   "source": [
    "# 11. Implementar uma função que recebendo um array de números inteiros, calcule a média dos elementos.\n",
    "# Ex: [2,5,8] => 5\n",
    "\n",
    "def media():\n",
    "    lista = [2, 5, 8]\n",
    "    media = sum(lista) / len(lista)\n",
    "    print(media)\n",
    "\n",
    "media()"
   ]
  },
  {
   "cell_type": "code",
   "execution_count": null,
   "metadata": {},
   "outputs": [],
   "source": [
    "# 12. Implementar uma função que recebendo um array de números inteiros, retorne seu segundo maior valor.\n",
    "# Ex: [8,2,10,5] => 8\n",
    "\n",
    "import heapq\n",
    "\n",
    "def segundo_maior():\n",
    "\n",
    "    lista = [8, 2, 10, 5]\n",
    "    \n",
    "    maiores = heapq.nlargest(2, set(lista))\n",
    "    print(maiores[1])\n",
    "    \n",
    "segundo_maior()"
   ]
  },
  {
   "cell_type": "code",
   "execution_count": null,
   "metadata": {},
   "outputs": [],
   "source": [
    "# 13. Implementar uma função que recebendo um array de números inteiros, retorne um array com o dobro de cada elemento.\n",
    "# Ex: [1,2,3,4,5] => [2,4,6,8,10]\n",
    "\n",
    "def dobro():\n",
    "    lista = [1, 2, 3, 4, 5]\n",
    "    dobro = []\n",
    "\n",
    "    for i in lista:\n",
    "        dobro.append(i * 2)\n",
    "\n",
    "    print(dobro)\n",
    "    \n",
    "dobro()"
   ]
  },
  {
   "cell_type": "code",
   "execution_count": null,
   "metadata": {},
   "outputs": [],
   "source": [
    "# 14. Implementar uma função que recebendo um número, retorne um array com a tabuada desse número.\n",
    "# Ex: 4 =>  [0,4,8,12,16,20,24,28,32,36,40]\n",
    "\n",
    "def tabuada():\n",
    "    numero = int(input(\"Digite um número: \"))\n",
    "    lista = []\n",
    "    for i in range(11):\n",
    "        lista.append(numero * i)\n",
    "\n",
    "    print(lista)\n",
    "\n",
    "tabuada()"
   ]
  },
  {
   "cell_type": "code",
   "execution_count": null,
   "metadata": {},
   "outputs": [],
   "source": [
    "# 15. Implementar uma função que recebendo o valor de 'a', 'b' e 'c', calcule a fórmula de bhaskara.\n",
    "# Ex: (1,12,-13) => [1,-13]\n",
    "\n",
    "import math\n",
    "\n",
    "def bhaskara():\n",
    "    lista = []\n",
    "    a = int(input(\"Digite o valor de A: \"))\n",
    "    b = int(input(\"Digite o valor de B: \"))\n",
    "    c = int(input(\"Digite o valor de C: \"))\n",
    "\n",
    "    delta = (b**2) - (4 * a * c)\n",
    "\n",
    "    if delta > 0:\n",
    "        raiz_positiva = (- (b) + math.sqrt(delta)) / (2 * a)\n",
    "        raiz_negativa = (- (b) - math.sqrt(delta)) / (2 * a)\n",
    "        lista.append(raiz_positiva)\n",
    "        lista.append(raiz_negativa)\n",
    "\n",
    "        print(lista)\n",
    "\n",
    "    else:\n",
    "        print(\"Delta resultou em um valor negativo, portanto, não é possível calcular as raízes!\")\n",
    "\n",
    "bhaskara()"
   ]
  },
  {
   "cell_type": "code",
   "execution_count": null,
   "metadata": {},
   "outputs": [],
   "source": [
    "# 16. Implementar uma função que recebendo um texto, retorne um array de texto com o código ascii de cada caractere.\n",
    "# Ex: \"Bruno\" =>  [66, 114, 117, 110, 111]\n",
    "\n",
    "def nome_ascii():\n",
    "    nome = 'Bruno'\n",
    "    lista_ascii = []\n",
    "    \n",
    "    for i in nome:\n",
    "        lista_ascii.append(ord(i))\n",
    "\n",
    "    print(lista_ascii)\n",
    "\n",
    "nome_ascii()"
   ]
  },
  {
   "cell_type": "code",
   "execution_count": null,
   "metadata": {},
   "outputs": [],
   "source": [
    "# 17. Implementar uma função que recebendo um array de números inteiros, retorne o array com o menor elemento na primeira posição.\n",
    "# Ex: [4,2,1,3,7] => [1,2,4,3,7]\n",
    "\n",
    "def inteiros_reversos():\n",
    "    pass\n",
    "inteiros_reversos()"
   ]
  },
  {
   "cell_type": "code",
   "execution_count": null,
   "metadata": {},
   "outputs": [],
   "source": [
    "# 18. Implementar uma função que recebendo um array de números inteiros, retorne seu maior produto.\n",
    "# Ex: [4,2,1,3,2] => 12\n",
    "\n",
    "def somar():\n",
    "    lista = [4, 2, 1, 3, 2]\n",
    "    resultado = sum(lista)\n",
    "    print(resultado)\n",
    "    \n",
    "somar()"
   ]
  },
  {
   "cell_type": "code",
   "execution_count": null,
   "metadata": {},
   "outputs": [],
   "source": [
    "# 19. Implementar uma função que recebendo um array de números inteiros e um número, retorne verdadeiro ou falso se o número existe nos elementos do array.\n",
    "# Ex: ([1,2,3,4,5], 2) =>  true\n",
    "#     ([1,2,3,4,5], 6) =>  false\n",
    "\n",
    "def verificar():\n",
    "    lista = [1,2,3,4,5]\n",
    "    num = 2\n",
    "\n",
    "    return num in lista\n",
    "\n",
    "verificar()"
   ]
  },
  {
   "cell_type": "code",
   "execution_count": null,
   "metadata": {},
   "outputs": [],
   "source": [
    "# 20. Implementar uma função que recebendo um array de números inteiros e um número, retorne um novo array com o número adicionado ao final.\n",
    "# Ex: ([1,2,3,4,5], 6) =>  [1,2,3,4,5,6]\n",
    "\n",
    "def adicionar_item():\n",
    "    lista = [1, 2, 3, 4, 5]\n",
    "    item = int(input('Digite um número: '))\n",
    "    lista.append(item)\n",
    "    print(lista)\n",
    "\n",
    "adicionar_item()"
   ]
  },
  {
   "cell_type": "code",
   "execution_count": null,
   "metadata": {},
   "outputs": [],
   "source": [
    "# 21. Implementar uma função que recebendo um array de números inteiros e um número, retorne um novo array com o número adicionado no começo.\n",
    "# Ex: ([1,2,3,4,5], 6) =>  [6,1,2,3,4,5]\n",
    "\n",
    "def adicionar_inicio():\n",
    "    lista = [1, 2, 3, 4, 5]\n",
    "    item = int(input('Digite um número: '))\n",
    "    lista.insert(0, item)\n",
    "    print(lista)\n",
    "\n",
    "adicionar_inicio()"
   ]
  },
  {
   "cell_type": "code",
   "execution_count": null,
   "metadata": {},
   "outputs": [],
   "source": [
    "# 22. Implementar uma função que recebendo um array de números inteiros, um número e uma posição, retorne um novo array com o número adicionado na posição informada.\n",
    "# Ex: ([1,2,3,4,5], 10, 2) =>  [1,2,10,3,4,5]\n",
    "\n",
    "def adicionar_inicio():\n",
    "    lista = [1, 2, 3, 4, 5]\n",
    "    item = int(input('Digite um número: '))\n",
    "    posicao = int(input('Digite a posição: '))\n",
    "    lista.insert(posicao, item)\n",
    "    print(lista)\n",
    "\n",
    "adicionar_inicio()"
   ]
  },
  {
   "cell_type": "code",
   "execution_count": null,
   "metadata": {},
   "outputs": [],
   "source": [
    "# 23. Implementar uma função que recebendo um array de números inteiros e um número, retorne um novo array filtrando os elementos maiores que o número informado.\n",
    "# Ex: ([1,2,3,4,5], 2) =>  [3,4,5]\n",
    "\n",
    "def filtro_sequencia():\n",
    "    lista = [1, 2, 3, 4, 5]\n",
    "    nova_lista = []\n",
    "    min_num = int(input('Digite um número: '))\n",
    "    \n",
    "    for i in lista:\n",
    "        if i > min_num:\n",
    "            nova_lista.append(i)\n",
    "    \n",
    "    print(nova_lista)\n",
    "\n",
    "filtro_sequencia()"
   ]
  },
  {
   "cell_type": "code",
   "execution_count": null,
   "metadata": {},
   "outputs": [],
   "source": [
    "# 24. Implementar uma função que recebendo um array de números inteiros, retorne um novo array sem conter números repetidos.\n",
    "# Ex: [5,2,5,10,5] => [5,2,10]\n",
    "\n",
    "def remover_iguais():\n",
    "    lista = [5, 2, 5, 10, 5]\n",
    "    nova_lista = set(lista)\n",
    "    print(list(nova_lista))\n",
    "\n",
    "remover_iguais()\n"
   ]
  },
  {
   "cell_type": "code",
   "execution_count": null,
   "metadata": {},
   "outputs": [],
   "source": [
    "# 25. Implementar uma função que recebendo um array de palavras, retorne um novo array sem conter palavras repetidas.\n",
    "# Ex: [\"sangue\", \"nos\", \"olho\", \"!\", \"!\", \"!\" ] => [\"sangue\", \"nos\", \"olho\", \"!\" ]\n",
    "\n",
    "def remover_iguais():\n",
    "    lista = [\"sangue\", \"nos\", \"olho\", \"!\", \"!\", \"!\" ]\n",
    "    nova_lista = set(lista)\n",
    "    print(list(nova_lista))\n",
    "\n",
    "remover_iguais()"
   ]
  },
  {
   "cell_type": "code",
   "execution_count": null,
   "metadata": {},
   "outputs": [],
   "source": [
    "# 26. Implementar uma função que recebendo dois arrays de números inteiros, retorne um array com sua intersecção.\n",
    "# Ex: ([1,2,3,4,5], [2,3,6,7,8]) => [2,3]\n",
    "\n",
    "def interseccao():\n",
    "    lista_1 = [1, 2, 3, 4, 5]\n",
    "    lista_2 = [2, 3, 6, 7, 8]\n",
    "    interseccao = set(lista_1).intersection(set(lista_2))\n",
    "    print(list(interseccao))\n",
    "    \n",
    "interseccao()"
   ]
  },
  {
   "cell_type": "code",
   "execution_count": null,
   "metadata": {},
   "outputs": [],
   "source": [
    "# 27. Implementar uma função que recebendo dois arrays de números inteiros, retorne um array com sua união.\n",
    "# Ex: ([1,2,3,4,5], [4,5,6,7,8]) => [1,2,3,4,5,4,5,6,7,8]\n",
    "\n",
    "def uniao_lista():\n",
    "    lista_1 = [1, 2, 3, 4, 5]\n",
    "    lista_2 = [4, 5, 6, 7, 8]\n",
    "    uniao = lista_1 + lista_2\n",
    "    print(list(uniao))\n",
    "    \n",
    "uniao_lista()"
   ]
  },
  {
   "cell_type": "code",
   "execution_count": null,
   "metadata": {},
   "outputs": [],
   "source": [
    "# 28. Implementar uma função que recebendo dois arrays de números inteiros, retorne um array com sua união sem duplicar os elementos.\n",
    "# Ex: ([1,2,3,4,5], [4,5,6,7,8]) => [1,2,3,4,5,6,7,8]\n",
    "\n",
    "def uniao_lista():\n",
    "    lista_1 = [1, 2, 3, 4, 5]\n",
    "    lista_2 = [4, 5, 6, 7, 8]\n",
    "    uniao = set(lista_1).union(set(lista_2))\n",
    "    print(list(uniao))\n",
    "    \n",
    "uniao_lista()"
   ]
  },
  {
   "cell_type": "code",
   "execution_count": null,
   "metadata": {},
   "outputs": [],
   "source": [
    "# 29. Implementar uma função que recebendo dois arrays de números inteiros, retorne um array com os elementos que existem apenas no primeiro array.\n",
    "# Ex: ([0,1,2,3,4], [2,3,4,5,6]) => [0,1]\n",
    "def elementos_unicos():\n",
    "    lista_1 = [0, 1, 2, 3, 4]\n",
    "    lista_2 = [2, 3, 4, 5, 6]\n",
    "    unicos = set(lista_1) - set(lista_2)\n",
    "    print(list(unicos))\n",
    "\n",
    "elementos_unicos()\n"
   ]
  },
  {
   "cell_type": "code",
   "execution_count": null,
   "metadata": {},
   "outputs": [],
   "source": [
    "# 30. Implementar uma função que recebendo um número que representa um tamanho, retorne um array (de tamanho igual ao valor recebido) com a sequência de fibonacci.\n",
    "# Ex: 7 => [1,1,2,3,5,8,13]\n",
    "\n"
   ]
  },
  {
   "cell_type": "code",
   "execution_count": null,
   "metadata": {},
   "outputs": [],
   "source": [
    "# 31. Implementar uma função que recebendo um array de números inteiros, retorne o array com os dois menores elementos na primeira e segunda posição.\n",
    "# Ex: [4,2,1,3,8] => [1,2,4,3,8]"
   ]
  },
  {
   "cell_type": "code",
   "execution_count": null,
   "metadata": {},
   "outputs": [],
   "source": [
    "# 32. Implementar uma função que recebendo um array de números inteiros, retorne o array com seus elementos ordenados de forma crescente.\n",
    "# Ex: [4,2,1,3,5] => [1,2,3,4,5]\n",
    "def ordena_lista():\n",
    "    lista = [4, 2, 1, 3, 5]\n",
    "    lista_ordenada = sorted(lista)\n",
    "    print(lista_ordenada)\n",
    "\n",
    "ordena_lista()"
   ]
  },
  {
   "cell_type": "code",
   "execution_count": null,
   "metadata": {},
   "outputs": [],
   "source": [
    "# 33. Implementar uma função que recebendo um array de números inteiros, retorne a maior sequência de números consecutivos.\n",
    "# Ex: [3,1,2,3,8,4,5,6,7,8] => [4,5,6,7,8]"
   ]
  },
  {
   "cell_type": "code",
   "execution_count": null,
   "metadata": {},
   "outputs": [],
   "source": [
    "# 34. Implementar uma função que recebendo um texto, retorne um array de texto com o código binário de cada caractere.\n",
    "# Ex: \"Bruno\" => [\"01000010\", \"01110010\", \"01110101\", \"01101110\", \"01101111\"]\n",
    "\n",
    "def binario():\n",
    "    texto = \"Bruno\"\n",
    "    lista = []\n",
    "    for i in texto:\n",
    "        lista.append(bin(ord(i))[2:])\n",
    "\n",
    "    print(lista)\n",
    "\n",
    "binario()"
   ]
  },
  {
   "cell_type": "code",
   "execution_count": null,
   "metadata": {},
   "outputs": [],
   "source": [
    "# 35. Implementar uma função que recebendo um número que representa um tamanho, retorne um array (de tamanho igual ao valor recebido) com a sequência dos números primos. *Sugestão: crie uma função auxiliar que verifique se um número é primo e use na função principal.\n",
    "# Ex: (10) => [2 3 5 7 9 11 13 17 19]\n",
    "\n"
   ]
  },
  {
   "cell_type": "code",
   "execution_count": null,
   "metadata": {},
   "outputs": [],
   "source": [
    "# 36. Implementar uma função que recebendo um array de números inteiros e um número, retorne um array com 3 elementos que sua soma resultam no número recebido.\n",
    "# Ex: ([1,3,5,4,5], 11) => [1,5,5]\n",
    "#     ([1,3,5,4,5], 9) => [1,3,5]"
   ]
  }
 ],
 "metadata": {
  "kernelspec": {
   "display_name": "Python 3",
   "language": "python",
   "name": "python3"
  },
  "language_info": {
   "codemirror_mode": {
    "name": "ipython",
    "version": 3
   },
   "file_extension": ".py",
   "mimetype": "text/x-python",
   "name": "python",
   "nbconvert_exporter": "python",
   "pygments_lexer": "ipython3",
   "version": "3.13.0"
  }
 },
 "nbformat": 4,
 "nbformat_minor": 2
}
